{
 "cells": [
  {
   "cell_type": "code",
   "execution_count": null,
   "id": "60dc8d60",
   "metadata": {},
   "outputs": [],
   "source": [
    "import nltk"
   ]
  },
  {
   "cell_type": "code",
   "execution_count": null,
   "id": "cb56bac5",
   "metadata": {},
   "outputs": [],
   "source": [
    "# nltk.download_shell()"
   ]
  },
  {
   "cell_type": "code",
   "execution_count": null,
   "id": "86023140",
   "metadata": {},
   "outputs": [],
   "source": [
    "messages=[line.rstrip() for line in open('sm')]"
   ]
  },
  {
   "cell_type": "code",
   "execution_count": null,
   "id": "c840d1f9",
   "metadata": {},
   "outputs": [],
   "source": [
    "len(messages)"
   ]
  },
  {
   "cell_type": "code",
   "execution_count": null,
   "id": "65c4ade6",
   "metadata": {},
   "outputs": [],
   "source": [
    "messages[0]"
   ]
  },
  {
   "cell_type": "code",
   "execution_count": null,
   "id": "851fc389",
   "metadata": {},
   "outputs": [],
   "source": [
    "messages[50]"
   ]
  },
  {
   "cell_type": "code",
   "execution_count": null,
   "id": "8d5014bb",
   "metadata": {},
   "outputs": [],
   "source": [
    "messages[69]"
   ]
  },
  {
   "cell_type": "code",
   "execution_count": null,
   "id": "cedd125c",
   "metadata": {},
   "outputs": [],
   "source": [
    "#collection of tects is caled corpus\n",
    "for mess_no,message in enumerate(messages[:10]):\n",
    "    print(mess_no,message)\n",
    "    print('\\n')\n",
    "    "
   ]
  },
  {
   "cell_type": "code",
   "execution_count": null,
   "id": "75a5464b",
   "metadata": {},
   "outputs": [],
   "source": [
    "import pandas as pd\n",
    "mails=pd.read_csv('SMSSpamCollection',sep='\\t',names=['label','messages'])\n",
    "df.head()"
   ]
  },
  {
   "cell_type": "code",
   "execution_count": null,
   "id": "11e16bdb",
   "metadata": {},
   "outputs": [],
   "source": [
    "mails.describe()"
   ]
  },
  {
   "cell_type": "code",
   "execution_count": null,
   "id": "a971d7b2",
   "metadata": {},
   "outputs": [],
   "source": [
    "mails.groupby('label').describe()"
   ]
  },
  {
   "cell_type": "code",
   "execution_count": 143,
   "id": "1d985399",
   "metadata": {},
   "outputs": [
    {
     "data": {
      "text/html": [
       "<div>\n",
       "<style scoped>\n",
       "    .dataframe tbody tr th:only-of-type {\n",
       "        vertical-align: middle;\n",
       "    }\n",
       "\n",
       "    .dataframe tbody tr th {\n",
       "        vertical-align: top;\n",
       "    }\n",
       "\n",
       "    .dataframe thead th {\n",
       "        text-align: right;\n",
       "    }\n",
       "</style>\n",
       "<table border=\"1\" class=\"dataframe\">\n",
       "  <thead>\n",
       "    <tr style=\"text-align: right;\">\n",
       "      <th></th>\n",
       "      <th>label</th>\n",
       "      <th>messages</th>\n",
       "      <th>length</th>\n",
       "    </tr>\n",
       "  </thead>\n",
       "  <tbody>\n",
       "    <tr>\n",
       "      <th>0</th>\n",
       "      <td>ham</td>\n",
       "      <td>Go until jurong point, crazy.. Available only ...</td>\n",
       "      <td>111</td>\n",
       "    </tr>\n",
       "    <tr>\n",
       "      <th>1</th>\n",
       "      <td>ham</td>\n",
       "      <td>Ok lar... Joking wif u oni...</td>\n",
       "      <td>29</td>\n",
       "    </tr>\n",
       "    <tr>\n",
       "      <th>2</th>\n",
       "      <td>spam</td>\n",
       "      <td>Free entry in 2 a wkly comp to win FA Cup fina...</td>\n",
       "      <td>155</td>\n",
       "    </tr>\n",
       "    <tr>\n",
       "      <th>3</th>\n",
       "      <td>ham</td>\n",
       "      <td>U dun say so early hor... U c already then say...</td>\n",
       "      <td>49</td>\n",
       "    </tr>\n",
       "    <tr>\n",
       "      <th>4</th>\n",
       "      <td>ham</td>\n",
       "      <td>Nah I don't think he goes to usf, he lives aro...</td>\n",
       "      <td>61</td>\n",
       "    </tr>\n",
       "  </tbody>\n",
       "</table>\n",
       "</div>"
      ],
      "text/plain": [
       "  label                                           messages  length\n",
       "0   ham  Go until jurong point, crazy.. Available only ...     111\n",
       "1   ham                      Ok lar... Joking wif u oni...      29\n",
       "2  spam  Free entry in 2 a wkly comp to win FA Cup fina...     155\n",
       "3   ham  U dun say so early hor... U c already then say...      49\n",
       "4   ham  Nah I don't think he goes to usf, he lives aro...      61"
      ]
     },
     "execution_count": 143,
     "metadata": {},
     "output_type": "execute_result"
    }
   ],
   "source": [
    "mails['length']=mails.messages.apply(len)\n",
    "mails.head()"
   ]
  },
  {
   "cell_type": "code",
   "execution_count": null,
   "id": "87ac796c",
   "metadata": {},
   "outputs": [],
   "source": [
    "import matplotlib.pyplot as plt\n",
    "import seaborn as sns\n",
    "mails.length.plot.hist(bins=100)"
   ]
  },
  {
   "cell_type": "markdown",
   "id": "71f2d017",
   "metadata": {},
   "source": [
    "  "
   ]
  },
  {
   "cell_type": "code",
   "execution_count": null,
   "id": "1c95a0c7",
   "metadata": {},
   "outputs": [],
   "source": [
    "mails.length.describe()"
   ]
  },
  {
   "cell_type": "code",
   "execution_count": null,
   "id": "4470b0cc",
   "metadata": {},
   "outputs": [],
   "source": [
    "mails[mails.length==910]['messages'].iloc[0]"
   ]
  },
  {
   "cell_type": "code",
   "execution_count": null,
   "id": "6d34b93e",
   "metadata": {},
   "outputs": [],
   "source": [
    "mails.hist(column='length',by='label',bins=40,figsize=(12,4))"
   ]
  },
  {
   "cell_type": "code",
   "execution_count": null,
   "id": "490b49a4",
   "metadata": {},
   "outputs": [],
   "source": [
    "# we can infer from above plots that length can be a parameter to separate spam emails\n",
    "\n"
   ]
  },
  {
   "cell_type": "code",
   "execution_count": null,
   "id": "88adf70d",
   "metadata": {},
   "outputs": [],
   "source": [
    "import string\n",
    "string.punctuation\n",
    "mess='sample ! no punc :'\n",
    "no_punc=[k for k in mess if k not in string.punctuation ]\n",
    "no_punc"
   ]
  },
  {
   "cell_type": "code",
   "execution_count": null,
   "id": "0bd34ab3",
   "metadata": {},
   "outputs": [],
   "source": [
    "from nltk.corpus import stopwords"
   ]
  },
  {
   "cell_type": "code",
   "execution_count": null,
   "id": "608eaa6a",
   "metadata": {},
   "outputs": [],
   "source": [
    "k=stopwords.words('english')"
   ]
  },
  {
   "cell_type": "code",
   "execution_count": null,
   "id": "883bc9c7",
   "metadata": {},
   "outputs": [],
   "source": [
    "len(k)"
   ]
  },
  {
   "cell_type": "code",
   "execution_count": null,
   "id": "eefcfef2",
   "metadata": {},
   "outputs": [],
   "source": [
    "nopunc=''.join(no_punc)\n",
    "nopunc"
   ]
  },
  {
   "cell_type": "code",
   "execution_count": null,
   "id": "1ff50663",
   "metadata": {},
   "outputs": [],
   "source": [
    "nopunc.split()"
   ]
  },
  {
   "cell_type": "code",
   "execution_count": null,
   "id": "e5ffb16f",
   "metadata": {},
   "outputs": [],
   "source": [
    "cleaned_mess=[word for word in nopunc.split() if word not in k]\n",
    "cleaned_mess"
   ]
  },
  {
   "cell_type": "code",
   "execution_count": null,
   "id": "d5c5b51e",
   "metadata": {},
   "outputs": [],
   "source": [
    "def text_editor(mess):\n",
    "#     \"\"\"\"\"\"\n",
    "#     1.remove punc\n",
    "#     2.remove stopwords\n",
    "#     3.display cleaned text\n",
    "#     \"\"\"\"\"\"\n",
    "    nopunc=[c for c in mess if c not in string.punctuation]\n",
    "    nopunc=''.join(nopunc)\n",
    "    k=stopwords.words('english')\n",
    "    return [c for c in nopunc.split() if c.lower() not in k]\n",
    "    \n",
    "    "
   ]
  },
  {
   "cell_type": "code",
   "execution_count": null,
   "id": "78b7897d",
   "metadata": {},
   "outputs": [],
   "source": [
    "mails.head()"
   ]
  },
  {
   "cell_type": "code",
   "execution_count": null,
   "id": "a5d53100",
   "metadata": {},
   "outputs": [],
   "source": [
    "mails['messages'].head(5).apply(text_editor)"
   ]
  },
  {
   "cell_type": "code",
   "execution_count": null,
   "id": "7495d36b",
   "metadata": {},
   "outputs": [],
   "source": [
    "from sklearn.feature_extraction.text import CountVectorizer\n",
    "#bag of words transformation\n",
    "bow_transformer=CountVectorizer(analyzer=text_editor).fit(mails['messages'])"
   ]
  },
  {
   "cell_type": "code",
   "execution_count": null,
   "id": "880eb94a",
   "metadata": {},
   "outputs": [],
   "source": [
    "print(len(bow_transformer.vocabulary_))\n",
    "# a total of 11425 unique words are there in total messages"
   ]
  },
  {
   "cell_type": "code",
   "execution_count": null,
   "id": "3eaf3ad4",
   "metadata": {},
   "outputs": [],
   "source": [
    "mess4=mails['messages'][3]\n",
    "mess4"
   ]
  },
  {
   "cell_type": "code",
   "execution_count": null,
   "id": "d2b1aa0d",
   "metadata": {},
   "outputs": [],
   "source": [
    "bow4=bow_transformer.transform([mess4])\n",
    "print(bow4)"
   ]
  },
  {
   "cell_type": "code",
   "execution_count": null,
   "id": "1ca643de",
   "metadata": {},
   "outputs": [],
   "source": [
    "# it means that there are only 7 unique words in message 4 after removing punctuations and stop words\n",
    "bow_transformer.get_feature_names()[9554]\n",
    "\n",
    "\n",
    "#each work is assigned wi"
   ]
  },
  {
   "cell_type": "code",
   "execution_count": null,
   "id": "5892adb4",
   "metadata": {},
   "outputs": [],
   "source": [
    "bow_transformer.get_feature_names()[4068]"
   ]
  },
  {
   "cell_type": "code",
   "execution_count": null,
   "id": "73eb846b",
   "metadata": {},
   "outputs": [],
   "source": [
    "message_bow=bow_transformer.transform(mails['messages'])"
   ]
  },
  {
   "cell_type": "code",
   "execution_count": null,
   "id": "b244a5bf",
   "metadata": {},
   "outputs": [],
   "source": [
    "print('shape of sparse matrix :',message_bow.shape)\n",
    "message_bow"
   ]
  },
  {
   "cell_type": "code",
   "execution_count": null,
   "id": "7389b168",
   "metadata": {},
   "outputs": [],
   "source": [
    "# find num of nonzeros in message_bow\n",
    "message_bow.nnz"
   ]
  },
  {
   "cell_type": "code",
   "execution_count": null,
   "id": "9f8e0e14",
   "metadata": {},
   "outputs": [],
   "source": [
    "from sklearn.feature_extraction.text import TfidfTransformer\n",
    "#The TF*IDF algorithm is used to weigh a keyword in any content and assign importance to that keyword based \n",
    "#on the number of times it appears in the document. More importantly, \n",
    "#it checks how relevant the keyword is throughout the web, which is referred to as corpus."
   ]
  },
  {
   "cell_type": "code",
   "execution_count": null,
   "id": "67d3ac0f",
   "metadata": {},
   "outputs": [],
   "source": [
    "tfidf_transformer=TfidfTransformer().fit(message_bow)"
   ]
  },
  {
   "cell_type": "code",
   "execution_count": null,
   "id": "7f4ef124",
   "metadata": {},
   "outputs": [],
   "source": [
    "tfidf4=tfidf_transformer.transform(bow4)\n",
    "print(tfidf4)\n",
    "# these numbers refers to weights"
   ]
  },
  {
   "cell_type": "code",
   "execution_count": null,
   "id": "ad5ed395",
   "metadata": {},
   "outputs": [],
   "source": [
    "tfidf_transformer.idf_[bow_transformer.vocabulary_['college']]\n",
    "# the higher the numerical value , the rarer the term is\n",
    "# the smaller the numerical value the more common the term"
   ]
  },
  {
   "cell_type": "code",
   "execution_count": null,
   "id": "21d0d406",
   "metadata": {},
   "outputs": [],
   "source": [
    "messages_tfidf=tfidf_transformer.transform(message_bow)\n",
    "#https://www.onely.com/blog/what-is-tf-idf/#:~:text=TF*IDF%20is%20used%20by,b)%20Cocaine."
   ]
  },
  {
   "cell_type": "code",
   "execution_count": null,
   "id": "340e5a82",
   "metadata": {},
   "outputs": [],
   "source": [
    "# start detection\n",
    "from sklearn.naive_bayes import MultinomialNB\n",
    "spam_detect_model=MultinomialNB().fit(message_tfidf,mails['label'])"
   ]
  },
  {
   "cell_type": "code",
   "execution_count": null,
   "id": "2ce07c9b",
   "metadata": {},
   "outputs": [],
   "source": [
    "spam_detect_model.predict(tfidf4)[0]"
   ]
  },
  {
   "cell_type": "code",
   "execution_count": null,
   "id": "e803b54b",
   "metadata": {},
   "outputs": [],
   "source": [
    "all_pred=spam_detect_model.predict(messages_tfidf)\n",
    "all_pred"
   ]
  },
  {
   "cell_type": "code",
   "execution_count": null,
   "id": "75f73feb",
   "metadata": {},
   "outputs": [],
   "source": [
    "actual=mails['label']\n",
    "print(k)"
   ]
  },
  {
   "cell_type": "code",
   "execution_count": null,
   "id": "6c2a6417",
   "metadata": {},
   "outputs": [],
   "source": [
    "from sklearn.model_selection import train_test_split\n",
    "msg_train,msg_test,label_train,label_test=train_test_split(mails['messages'],mails['label'],test_size=.3)"
   ]
  },
  {
   "cell_type": "code",
   "execution_count": null,
   "id": "3269768f",
   "metadata": {},
   "outputs": [],
   "source": [
    "from sklearn.pipeline import Pipeline\n",
    "pipelien=Pipeline[\n",
    "    ('bow',CountVectorizer(tex)),('tfidf',TfidfTransformer()),('classifier',Mz)\n",
    "]"
   ]
  },
  {
   "cell_type": "code",
   "execution_count": null,
   "id": "7d57626a",
   "metadata": {},
   "outputs": [],
   "source": []
  },
  {
   "cell_type": "code",
   "execution_count": null,
   "id": "a1cc42fa",
   "metadata": {},
   "outputs": [],
   "source": []
  },
  {
   "cell_type": "code",
   "execution_count": null,
   "id": "a35e9310",
   "metadata": {},
   "outputs": [],
   "source": []
  },
  {
   "cell_type": "code",
   "execution_count": null,
   "id": "07793ab1",
   "metadata": {},
   "outputs": [],
   "source": []
  },
  {
   "cell_type": "code",
   "execution_count": null,
   "id": "5f344657",
   "metadata": {},
   "outputs": [],
   "source": []
  },
  {
   "cell_type": "code",
   "execution_count": null,
   "id": "d892c831",
   "metadata": {},
   "outputs": [],
   "source": []
  },
  {
   "cell_type": "code",
   "execution_count": null,
   "id": "79e419c2",
   "metadata": {},
   "outputs": [],
   "source": []
  },
  {
   "cell_type": "code",
   "execution_count": null,
   "id": "f9c53fd0",
   "metadata": {},
   "outputs": [],
   "source": []
  },
  {
   "cell_type": "code",
   "execution_count": null,
   "id": "272d8787",
   "metadata": {},
   "outputs": [],
   "source": []
  },
  {
   "cell_type": "code",
   "execution_count": null,
   "id": "fa5a8557",
   "metadata": {},
   "outputs": [],
   "source": []
  },
  {
   "cell_type": "code",
   "execution_count": null,
   "id": "a1367e9c",
   "metadata": {},
   "outputs": [],
   "source": []
  },
  {
   "cell_type": "code",
   "execution_count": null,
   "id": "5b98f44e",
   "metadata": {},
   "outputs": [],
   "source": []
  },
  {
   "cell_type": "code",
   "execution_count": null,
   "id": "7b83d00b",
   "metadata": {},
   "outputs": [],
   "source": []
  },
  {
   "cell_type": "code",
   "execution_count": null,
   "id": "11dd6c9d",
   "metadata": {},
   "outputs": [],
   "source": []
  },
  {
   "cell_type": "code",
   "execution_count": null,
   "id": "5cb90012",
   "metadata": {},
   "outputs": [],
   "source": []
  },
  {
   "cell_type": "code",
   "execution_count": null,
   "id": "d983b2bc",
   "metadata": {},
   "outputs": [],
   "source": []
  },
  {
   "cell_type": "code",
   "execution_count": null,
   "id": "ed489ba0",
   "metadata": {},
   "outputs": [],
   "source": []
  },
  {
   "cell_type": "code",
   "execution_count": null,
   "id": "9a055e2c",
   "metadata": {},
   "outputs": [],
   "source": []
  },
  {
   "cell_type": "code",
   "execution_count": null,
   "id": "76dfbb45",
   "metadata": {},
   "outputs": [],
   "source": []
  },
  {
   "cell_type": "code",
   "execution_count": null,
   "id": "b8fdb801",
   "metadata": {},
   "outputs": [],
   "source": []
  },
  {
   "cell_type": "code",
   "execution_count": null,
   "id": "55ee5b16",
   "metadata": {},
   "outputs": [],
   "source": []
  },
  {
   "cell_type": "code",
   "execution_count": null,
   "id": "4771f65d",
   "metadata": {},
   "outputs": [],
   "source": []
  },
  {
   "cell_type": "code",
   "execution_count": null,
   "id": "86848f6c",
   "metadata": {},
   "outputs": [],
   "source": []
  },
  {
   "cell_type": "code",
   "execution_count": null,
   "id": "c1b0b148",
   "metadata": {},
   "outputs": [],
   "source": []
  },
  {
   "cell_type": "code",
   "execution_count": null,
   "id": "607d3f0e",
   "metadata": {},
   "outputs": [],
   "source": []
  },
  {
   "cell_type": "code",
   "execution_count": null,
   "id": "08aba687",
   "metadata": {},
   "outputs": [],
   "source": []
  },
  {
   "cell_type": "code",
   "execution_count": null,
   "id": "38f7ed77",
   "metadata": {},
   "outputs": [],
   "source": []
  },
  {
   "cell_type": "code",
   "execution_count": null,
   "id": "baa128e2",
   "metadata": {},
   "outputs": [],
   "source": []
  },
  {
   "cell_type": "code",
   "execution_count": null,
   "id": "f3182de7",
   "metadata": {},
   "outputs": [],
   "source": []
  },
  {
   "cell_type": "code",
   "execution_count": null,
   "id": "ee29a6a2",
   "metadata": {},
   "outputs": [],
   "source": []
  },
  {
   "cell_type": "code",
   "execution_count": null,
   "id": "f0bfd2f2",
   "metadata": {},
   "outputs": [],
   "source": []
  },
  {
   "cell_type": "code",
   "execution_count": null,
   "id": "d3ae2470",
   "metadata": {},
   "outputs": [],
   "source": []
  },
  {
   "cell_type": "code",
   "execution_count": null,
   "id": "667e6a64",
   "metadata": {},
   "outputs": [],
   "source": []
  }
 ],
 "metadata": {
  "kernelspec": {
   "display_name": "Python 3 (ipykernel)",
   "language": "python",
   "name": "python3"
  },
  "language_info": {
   "codemirror_mode": {
    "name": "ipython",
    "version": 3
   },
   "file_extension": ".py",
   "mimetype": "text/x-python",
   "name": "python",
   "nbconvert_exporter": "python",
   "pygments_lexer": "ipython3",
   "version": "3.9.7"
  }
 },
 "nbformat": 4,
 "nbformat_minor": 5
}
